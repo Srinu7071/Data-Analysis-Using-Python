{
  "nbformat": 4,
  "nbformat_minor": 0,
  "metadata": {
    "colab": {
      "private_outputs": true,
      "provenance": []
    },
    "kernelspec": {
      "name": "python3",
      "display_name": "Python 3"
    },
    "language_info": {
      "name": "python"
    }
  },
  "cells": [
    {
      "cell_type": "markdown",
      "source": [
        "Pandas:\n",
        "-Used for data manipulation(Data cleaning,organizing data\n",
        "-Creates dataframes from excel,csv,txt,DBs\n",
        "-Dataframe (rows and columns redable by python)\n",
        "-Data cleaning by dropping or replacing with mean\n",
        "-Visualize the data\n"
      ],
      "metadata": {
        "id": "WohA_nwC3JAx"
      }
    },
    {
      "cell_type": "code",
      "execution_count": null,
      "metadata": {
        "id": "GIbtqAvx3Gxo"
      },
      "outputs": [],
      "source": [
        "import pandas as pd"
      ]
    },
    {
      "cell_type": "code",
      "source": [
        "names=[\"sai\",\"vijay\",\"soma\",\"dp\",\"srinu\"]\n",
        "index=[40,43,45,67,41]\n",
        "ser1=pd.Series(names,index)\n",
        "print(ser1)"
      ],
      "metadata": {
        "id": "dTdDMaIx6jcy"
      },
      "execution_count": null,
      "outputs": []
    },
    {
      "cell_type": "markdown",
      "source": [
        "importing files\n",
        "-for csv and txt:read_csv(\"file path\")\n",
        "-for excel:read_excel(\"file path\")"
      ],
      "metadata": {
        "id": "SyuMWDnO_ICv"
      }
    },
    {
      "cell_type": "code",
      "source": [
        "df=pd.read_csv(\"/content/diabetcsv.csv\")\n"
      ],
      "metadata": {
        "id": "diPBZcw-_lwP"
      },
      "execution_count": null,
      "outputs": []
    },
    {
      "cell_type": "code",
      "source": [
        "df.head(10)"
      ],
      "metadata": {
        "id": "M8HoXX_NA8L0"
      },
      "execution_count": null,
      "outputs": []
    },
    {
      "cell_type": "code",
      "source": [
        "df.tail()"
      ],
      "metadata": {
        "id": "ni-HPZhqBHlO"
      },
      "execution_count": null,
      "outputs": []
    },
    {
      "cell_type": "code",
      "source": [
        "df.tail(10)"
      ],
      "metadata": {
        "id": "8_GaamzuBrWH"
      },
      "execution_count": null,
      "outputs": []
    },
    {
      "cell_type": "code",
      "source": [
        "print(df.describe)"
      ],
      "metadata": {
        "id": "SAPAp4YfHf6N"
      },
      "execution_count": null,
      "outputs": []
    },
    {
      "cell_type": "code",
      "source": [
        "print(df.shape) #it displays no of rows and columns"
      ],
      "metadata": {
        "id": "0BbxAQhQH3gh"
      },
      "execution_count": null,
      "outputs": []
    },
    {
      "cell_type": "code",
      "source": [
        "print(df.shape[0]) #it displays rows"
      ],
      "metadata": {
        "id": "vHbUMqOcI4DX"
      },
      "execution_count": null,
      "outputs": []
    },
    {
      "cell_type": "code",
      "source": [
        "print(df.shape[1]) #it displays columns"
      ],
      "metadata": {
        "id": "ZMupvXihJF3k"
      },
      "execution_count": null,
      "outputs": []
    },
    {
      "cell_type": "code",
      "source": [
        "df=pd.read_csv(\"/content/grades_withnulls.csv\")"
      ],
      "metadata": {
        "id": "FYBjbIyBCQVU"
      },
      "execution_count": null,
      "outputs": []
    },
    {
      "cell_type": "code",
      "source": [
        "df.head()"
      ],
      "metadata": {
        "id": "DdsDVpIFCb4S"
      },
      "execution_count": null,
      "outputs": []
    },
    {
      "cell_type": "code",
      "source": [
        "df.tail()"
      ],
      "metadata": {
        "id": "BKA1_zklClbo"
      },
      "execution_count": null,
      "outputs": []
    },
    {
      "cell_type": "code",
      "source": [
        "dft=pd.read_csv(\"/content/grades_withnulls.txt\")"
      ],
      "metadata": {
        "id": "WSjNbp5iCsAN"
      },
      "execution_count": null,
      "outputs": []
    },
    {
      "cell_type": "code",
      "source": [
        "dft.head()"
      ],
      "metadata": {
        "id": "TENZ4JsTDA35"
      },
      "execution_count": null,
      "outputs": []
    },
    {
      "cell_type": "code",
      "source": [
        "dft=pd.read_csv(\"/content/grades.txt\",sep=\" \")\n"
      ],
      "metadata": {
        "id": "HL_04glnEar4"
      },
      "execution_count": null,
      "outputs": []
    },
    {
      "cell_type": "code",
      "source": [
        "dft.head()"
      ],
      "metadata": {
        "id": "lSJsIxCqFHsN"
      },
      "execution_count": null,
      "outputs": []
    },
    {
      "cell_type": "code",
      "source": [
        "dfe=pd.read_excel(\"/content/diabetes.xlsx\")"
      ],
      "metadata": {
        "id": "M6lP75YaFZcU"
      },
      "execution_count": null,
      "outputs": []
    },
    {
      "cell_type": "code",
      "source": [
        "dfe.head()"
      ],
      "metadata": {
        "id": "euo8Jb6hF98C"
      },
      "execution_count": null,
      "outputs": []
    },
    {
      "cell_type": "code",
      "source": [
        "print(dft.describe)"
      ],
      "metadata": {
        "id": "VPko_i6PGpBo"
      },
      "execution_count": null,
      "outputs": []
    },
    {
      "cell_type": "code",
      "source": [
        "print(dft.shape) #it displays the no of rows and columns"
      ],
      "metadata": {
        "id": "m4ME1yFoHvTq"
      },
      "execution_count": null,
      "outputs": []
    },
    {
      "cell_type": "code",
      "source": [
        "print(dft.shape[0])#it displays rows"
      ],
      "metadata": {
        "id": "ikj6QYkLH9fv"
      },
      "execution_count": null,
      "outputs": []
    },
    {
      "cell_type": "code",
      "source": [
        "print(dft.shape[1]) #it displays columns"
      ],
      "metadata": {
        "id": "U40Ir3egIm90"
      },
      "execution_count": null,
      "outputs": []
    },
    {
      "cell_type": "markdown",
      "source": [
        "Accessing Data\n",
        "loc-accepts column names and index\n",
        "iloc-accepts only index"
      ],
      "metadata": {
        "id": "lTCMzHXaJSQz"
      }
    },
    {
      "cell_type": "code",
      "source": [
        "dft.describe()"
      ],
      "metadata": {
        "id": "46D3zTAkJNmE"
      },
      "execution_count": null,
      "outputs": []
    },
    {
      "cell_type": "code",
      "source": [
        "print(dft.columns)"
      ],
      "metadata": {
        "id": "b6we8N4qMLXZ"
      },
      "execution_count": null,
      "outputs": []
    },
    {
      "cell_type": "code",
      "source": [
        "print(dft[2:5]) #to access rows"
      ],
      "metadata": {
        "id": "gRQYe3ppLgu4"
      },
      "execution_count": null,
      "outputs": []
    },
    {
      "cell_type": "code",
      "source": [
        "print(dft.loc[2:5],\"Names\") #loc"
      ],
      "metadata": {
        "id": "oK6MuGZaMzhv"
      },
      "execution_count": null,
      "outputs": []
    },
    {
      "cell_type": "code",
      "source": [
        "print(dft.iloc[2:5,:3]) #iloc[row range,column range]=>index"
      ],
      "metadata": {
        "id": "sExqNN-RM_5E"
      },
      "execution_count": null,
      "outputs": []
    },
    {
      "cell_type": "code",
      "source": [
        "dfn=pd.read_csv(\"/content/grades_withnulls.csv\")\n",
        "dfn.head()"
      ],
      "metadata": {
        "id": "Lfnn6RKwNXUo"
      },
      "execution_count": null,
      "outputs": []
    },
    {
      "cell_type": "code",
      "source": [
        "dfn.isnull().head(7)"
      ],
      "metadata": {
        "id": "QsnQMeV-OaHo"
      },
      "execution_count": null,
      "outputs": []
    },
    {
      "cell_type": "code",
      "source": [
        "dfn.isnull().sum() #to view how many nulls we have per column"
      ],
      "metadata": {
        "id": "pwMu5e_TO6qO"
      },
      "execution_count": null,
      "outputs": []
    },
    {
      "cell_type": "code",
      "source": [
        "dfn.isnull().sum().sum() #to view total nulls"
      ],
      "metadata": {
        "id": "CqBJntwWPSJ9"
      },
      "execution_count": null,
      "outputs": []
    },
    {
      "cell_type": "code",
      "source": [
        "dfc =dfn.dropna() #dropping all the rows  with nulls"
      ],
      "metadata": {
        "id": "OV4O9IX5PeW3"
      },
      "execution_count": null,
      "outputs": []
    },
    {
      "cell_type": "code",
      "source": [
        "dfc"
      ],
      "metadata": {
        "id": "2KcLEzjjQLgy"
      },
      "execution_count": null,
      "outputs": []
    },
    {
      "cell_type": "code",
      "source": [
        "dfn.fillna(5)"
      ],
      "metadata": {
        "id": "1Pq4gJdyQlCJ"
      },
      "execution_count": null,
      "outputs": []
    },
    {
      "cell_type": "code",
      "source": [
        "dfc1=dfn.fillna(5)\n",
        "dfc1"
      ],
      "metadata": {
        "id": "pizpq_3uRsXE"
      },
      "execution_count": null,
      "outputs": []
    },
    {
      "cell_type": "markdown",
      "source": [
        "Cleaning with mean"
      ],
      "metadata": {
        "id": "q5YJnl6eSjIm"
      }
    },
    {
      "cell_type": "code",
      "source": [
        "m=dfn['SEM3'].mean()\n",
        "print(m)"
      ],
      "metadata": {
        "id": "bMGUX4pfSVGt"
      },
      "execution_count": null,
      "outputs": []
    },
    {
      "cell_type": "code",
      "source": [
        "dfc2=dfn.fillna(m)\n",
        "print(dfc2)"
      ],
      "metadata": {
        "id": "l5hbpygcS8_z"
      },
      "execution_count": null,
      "outputs": []
    },
    {
      "cell_type": "code",
      "source": [
        "droped=dfc2.drop_duplicates()\n",
        "print(droped)"
      ],
      "metadata": {
        "id": "4GORBkxVThOp"
      },
      "execution_count": null,
      "outputs": []
    },
    {
      "cell_type": "markdown",
      "source": [
        "COLUMNS"
      ],
      "metadata": {
        "id": "QL4UW7pFU3-u"
      }
    },
    {
      "cell_type": "code",
      "source": [
        "dfc2.rename(columns={\"Grade\":\"GPA\"},inplace=True) #df.rename(columns={old:new})"
      ],
      "metadata": {
        "id": "UUeKAgCcU2tA"
      },
      "execution_count": null,
      "outputs": []
    },
    {
      "cell_type": "code",
      "source": [
        "dfc2.head()"
      ],
      "metadata": {
        "id": "Yvmhpl6ZWDkE"
      },
      "execution_count": null,
      "outputs": []
    },
    {
      "cell_type": "code",
      "source": [
        "dfc2['Avg_score']=(dfc2['SEM1']+dfc2['SEM2']+dfc2['SEM3'])/3 #DF['newco1']=values"
      ],
      "metadata": {
        "id": "j-hiVcknXELl"
      },
      "execution_count": null,
      "outputs": []
    },
    {
      "cell_type": "code",
      "source": [
        "dfc2.head()"
      ],
      "metadata": {
        "id": "1hmBxF0hX_VB"
      },
      "execution_count": null,
      "outputs": []
    },
    {
      "cell_type": "code",
      "source": [
        "dfc2[['SEM1','SEM2']].plot.line()"
      ],
      "metadata": {
        "id": "e65UptkdYfqI"
      },
      "execution_count": null,
      "outputs": []
    },
    {
      "cell_type": "code",
      "source": [
        "dfc2[['SEM1','SEM2']].plot.line(subplots=True )"
      ],
      "metadata": {
        "id": "tC8xUQTiZyxA"
      },
      "execution_count": null,
      "outputs": []
    },
    {
      "cell_type": "code",
      "source": [
        "dfn.plot.line(subplots=True)"
      ],
      "metadata": {
        "id": "CTQrfLEsZVk7"
      },
      "execution_count": null,
      "outputs": []
    },
    {
      "cell_type": "markdown",
      "source": [
        "Seaborn"
      ],
      "metadata": {
        "id": "fjJVeH_Kbrw3"
      }
    },
    {
      "cell_type": "code",
      "source": [
        "import seaborn as sns"
      ],
      "metadata": {
        "id": "sXJ2ZCV1bqW4"
      },
      "execution_count": null,
      "outputs": []
    },
    {
      "cell_type": "code",
      "source": [
        "dp1=sns.lineplot(x='Names',y='SEM1',data=dfc2)"
      ],
      "metadata": {
        "id": "jTotr8Hqb0FD"
      },
      "execution_count": null,
      "outputs": []
    },
    {
      "cell_type": "code",
      "source": [
        "sns.relplot(data=dfc2,x=\"SEM2\",y=\"SEM1\",col=\"Placed\")"
      ],
      "metadata": {
        "id": "0p37-L1LdJ5R"
      },
      "execution_count": null,
      "outputs": []
    },
    {
      "cell_type": "markdown",
      "source": [
        "load diabetes.csv\n",
        "create a rel plot with age in the x-axis and class as columns"
      ],
      "metadata": {
        "id": "FsRqHkWEeQAk"
      }
    },
    {
      "cell_type": "code",
      "source": [
        "dfn=pd.read_csv(\"/content/diabetcsv.csv\")\n",
        "dfn.head()"
      ],
      "metadata": {
        "id": "Bg7ihzarzzor"
      },
      "execution_count": null,
      "outputs": []
    },
    {
      "cell_type": "code",
      "source": [
        "dfn[\"index\"]=(dfn.index)\n",
        "sns.relplot(data=dfn,x=\"index\",y=\"age\",col=\"class\")"
      ],
      "metadata": {
        "id": "lhAdM3d_d3oy"
      },
      "execution_count": null,
      "outputs": []
    },
    {
      "cell_type": "markdown",
      "source": [
        "PANDAS AND SEABORN"
      ],
      "metadata": {
        "id": "OmdBAhdE1LK3"
      }
    },
    {
      "cell_type": "markdown",
      "source": [
        "1.Tips\n",
        "2.Dowjones\n",
        "3.Fmri\n",
        "4.Dots\n",
        "5.Healthexp\n",
        "to load dataset use:\n",
        "-Load_dataset(\"dataset name\")\n",
        "style=uses different markers for different catogery\n"
      ],
      "metadata": {
        "id": "Yg_C53hr0frK"
      }
    },
    {
      "cell_type": "code",
      "source": [
        "tips=sns.load_dataset(\"tips\")\n",
        "tips.head()"
      ],
      "metadata": {
        "id": "AflWlnoM2M7c"
      },
      "execution_count": null,
      "outputs": []
    },
    {
      "cell_type": "code",
      "source": [
        "dots=sns.load_dataset(\"dots\")\n",
        "dots.head()"
      ],
      "metadata": {
        "id": "yex_6FSh3UIx"
      },
      "execution_count": null,
      "outputs": []
    },
    {
      "cell_type": "code",
      "source": [
        "dowjones=sns.load_dataset(\"dowjones\")\n",
        "dowjones.head()"
      ],
      "metadata": {
        "id": "J9YDbJ_L3evp"
      },
      "execution_count": null,
      "outputs": []
    },
    {
      "cell_type": "code",
      "source": [
        "fmri=sns.load_dataset(\"fmri\")\n",
        "fmri.head()"
      ],
      "metadata": {
        "id": "uI76Facw3qGA"
      },
      "execution_count": null,
      "outputs": []
    },
    {
      "cell_type": "code",
      "source": [
        "sns.relplot(data=tips,x=\"total_bill\",y=\"tip\")"
      ],
      "metadata": {
        "id": "AAmMpRhI3_QZ"
      },
      "execution_count": null,
      "outputs": []
    },
    {
      "cell_type": "code",
      "source": [
        "sns.relplot(data=tips,x=\"total_bill\",y=\"tip\",hue=\"smoker\")"
      ],
      "metadata": {
        "id": "3Bv6MYl26Lre"
      },
      "execution_count": null,
      "outputs": []
    },
    {
      "cell_type": "code",
      "source": [
        "sns.relplot(data=tips,x=\"total_bill\",y=\"tip\",hue=\"day\")\n",
        "#hue -creating difference based on a column via colors"
      ],
      "metadata": {
        "id": "zKqBz_zp6Xzi"
      },
      "execution_count": null,
      "outputs": []
    },
    {
      "cell_type": "code",
      "source": [
        "sns.relplot(data=tips,x=\"total_bill\",y=\"tip\",hue=\"size\")"
      ],
      "metadata": {
        "id": "eAcUmeKd65Vh"
      },
      "execution_count": null,
      "outputs": []
    },
    {
      "cell_type": "code",
      "source": [
        "sns.relplot(data=tips,x=\"total_bill\",y=\"tip\",hue=\"time\")"
      ],
      "metadata": {
        "id": "GrEksleh6_nI"
      },
      "execution_count": null,
      "outputs": []
    },
    {
      "cell_type": "code",
      "source": [
        "sns.relplot(data=tips,x=\"total_bill\",y=\"tip\",hue=\"smoker\",style=\"time\")"
      ],
      "metadata": {
        "id": "FVkUOP1s8LiX"
      },
      "execution_count": null,
      "outputs": []
    },
    {
      "cell_type": "markdown",
      "source": [
        "different colors\n",
        "1.pastel\n",
        "2.bright\n",
        "3.deep\n",
        "4.color blind\n",
        "5.muted\n",
        "6.dark"
      ],
      "metadata": {
        "id": "A1a5lVD_9WNI"
      }
    },
    {
      "cell_type": "code",
      "source": [
        "sns.relplot(data=tips,x=\"total_bill\",y=\"tip\",hue=\"time\",palette=\"bright\")"
      ],
      "metadata": {
        "id": "ib3ovTM-9TZh"
      },
      "execution_count": null,
      "outputs": []
    },
    {
      "cell_type": "code",
      "source": [
        "sns.relplot(data=dowjones,x=\"Date\",y=\"Price\",kind=\"line\")"
      ],
      "metadata": {
        "id": "03yzv0lj-kQj"
      },
      "execution_count": null,
      "outputs": []
    },
    {
      "cell_type": "code",
      "source": [
        "sns.catplot(data=tips,x=\"total_bill\",y=\"day\")"
      ],
      "metadata": {
        "id": "vjReRap9AqnW"
      },
      "execution_count": null,
      "outputs": []
    },
    {
      "cell_type": "markdown",
      "source": [
        "\n",
        "---\n",
        "\n"
      ],
      "metadata": {
        "id": "xb7Ac8zJ7QRf"
      }
    },
    {
      "cell_type": "code",
      "source": [
        "sns.relplot(data=fmri,x=\"timepoint\",y=\"signal\")"
      ],
      "metadata": {
        "id": "ar3mS1xVC9lz"
      },
      "execution_count": null,
      "outputs": []
    },
    {
      "cell_type": "code",
      "source": [
        "sns.catplot(data=tips,x=\"time\",y=\"total_bill\",kind=\"violin\",hue=\"smoker\")"
      ],
      "metadata": {
        "id": "KZUyd8QtDlps"
      },
      "execution_count": null,
      "outputs": []
    },
    {
      "cell_type": "markdown",
      "source": [
        "plot name:\n",
        "Linear fit-lmplot\n",
        "-ploting the dataset\n",
        "-fitting the line"
      ],
      "metadata": {
        "id": "VNvYT8IpE0Yc"
      }
    },
    {
      "cell_type": "code",
      "source": [
        "sns.lmplot(x=\"size\",y=\"tip\",data=tips)"
      ],
      "metadata": {
        "id": "fEywQoelJYRa"
      },
      "execution_count": null,
      "outputs": []
    }
  ]
}