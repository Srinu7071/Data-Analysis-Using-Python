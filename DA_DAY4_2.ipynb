{
  "nbformat": 4,
  "nbformat_minor": 0,
  "metadata": {
    "colab": {
      "private_outputs": true,
      "provenance": []
    },
    "kernelspec": {
      "name": "python3",
      "display_name": "Python 3"
    },
    "language_info": {
      "name": "python"
    }
  },
  "cells": [
    {
      "cell_type": "code",
      "execution_count": null,
      "metadata": {
        "id": "X0pMj4v1LmwF"
      },
      "outputs": [],
      "source": [
        "#importing libraries\n",
        "from bs4 import BeautifulSoup\n",
        "import requests"
      ]
    },
    {
      "cell_type": "code",
      "source": [
        "url=\"https://www.forbesindia.com/article/explainers/top-10-richest-people-india/85909/1\"\n",
        "s=requests.get(url)\n",
        "code=BeautifulSoup(s.text,'html')\n",
        "print(code)"
      ],
      "metadata": {
        "id": "pcxRZixrMqFP"
      },
      "execution_count": null,
      "outputs": []
    },
    {
      "cell_type": "code",
      "source": [
        "t=code.find('table')\n",
        "print(t)"
      ],
      "metadata": {
        "id": "xyitnzvDQYRP"
      },
      "execution_count": null,
      "outputs": []
    },
    {
      "cell_type": "code",
      "source": [
        "tab=t.find_all('th')\n",
        "print(tab)"
      ],
      "metadata": {
        "id": "Wyg0BuCLRFH1"
      },
      "execution_count": null,
      "outputs": []
    },
    {
      "cell_type": "code",
      "source": [
        "head=[i.text for i in tab]\n",
        "print(head)"
      ],
      "metadata": {
        "id": "oGtCY0mXQrzK"
      },
      "execution_count": null,
      "outputs": []
    },
    {
      "cell_type": "code",
      "source": [
        "import pandas as pd"
      ],
      "metadata": {
        "id": "SX23vomtcfRt"
      },
      "execution_count": null,
      "outputs": []
    },
    {
      "cell_type": "code",
      "source": [
        "df=pd.DataFrame(columns=head)\n",
        "print(df)\n"
      ],
      "metadata": {
        "id": "qAd-oysJcNVY"
      },
      "execution_count": null,
      "outputs": []
    },
    {
      "cell_type": "code",
      "source": [
        "tab=t.find_all('tr')\n",
        "print(tab)"
      ],
      "metadata": {
        "id": "WGi5KzrjUDSX"
      },
      "execution_count": null,
      "outputs": []
    },
    {
      "cell_type": "code",
      "source": [
        "a=0\n",
        "for i in tab[1:9]:\n",
        "  rd=i.find_all('td')\n",
        "  erd=[j.text for j in rd]\n",
        "  df.loc[a]=erd\n",
        "  a=a+1\n"
      ],
      "metadata": {
        "id": "mS2xARaUexZ2"
      },
      "execution_count": null,
      "outputs": []
    },
    {
      "cell_type": "code",
      "source": [
        "df"
      ],
      "metadata": {
        "id": "q9xZ2kG1iH7y"
      },
      "execution_count": null,
      "outputs": []
    },
    {
      "cell_type": "code",
      "source": [
        "df.to_csv(\"Rich.csv\")"
      ],
      "metadata": {
        "id": "AJLVRwkuno3F"
      },
      "execution_count": null,
      "outputs": []
    },
    {
      "cell_type": "markdown",
      "source": [
        "Accessing elements:\n",
        ".Go to webpage\n",
        ".Right click--->Inspect\n",
        ".Click on\n",
        ".Now hover on the element you want to access\n",
        ".The html tags/code for that specific element is highlighted\n",
        ".Extract the element name and import in your program using XPATH or By ID"
      ],
      "metadata": {
        "id": "utGSjvpi7P6G"
      }
    },
    {
      "cell_type": "markdown",
      "source": [
        "Project 2\n",
        "Extracting a table from HTML code of any website and saving it as.csv file\n",
        "PROGRAM FLOW:\n",
        "1.Import libraries\n",
        "2.Save the url\n",
        "3.Using requests.get(),access the web page\n",
        "4.Using BeautifulSoup(),access the HTML code\n",
        "5.Using find,access the table\n",
        "6.Using find_all,access the rows of the table\n",
        "7.Using .text,extract only the text(removing html tags)\n",
        "8.Create a Dataframe using Pandas\n",
        "9.Push all the extracted data into Dataframe\n",
        "10.Using to_csv,save the dataframe in .csv format\n",
        "SELENIUM:\n",
        ".Used to scrape data from dynamic website\n",
        ".Subpackage:Webdriver\n",
        "FUNCTION:\n",
        "1.ChromeOptions()\n",
        "2..get\n",
        "3.find_element\n",
        "4..click()\n",
        "PURPOSE:\n",
        ".Creates an instance of Chrome\n",
        ".Access a webpage\n",
        ".to find first element of a kind\n",
        ".to click a button in webpage\n",
        "ATTRIBUTES:\n",
        "1._____\n",
        "2.'url'\n",
        "3.By.ID\n",
        "  By.XPATH\n",
        "4.___"
      ],
      "metadata": {
        "id": "4mB5QEgF89A6"
      }
    },
    {
      "cell_type": "markdown",
      "source": [
        "AMAZON SEARCH BOX ID=\"twotabsearchtextbox\""
      ],
      "metadata": {
        "id": "-hVSNFonHORe"
      }
    },
    {
      "cell_type": "markdown",
      "source": [
        "search click id=\"nav-search-submit-button\""
      ],
      "metadata": {
        "id": "VRiystLFHqNh"
      }
    },
    {
      "cell_type": "markdown",
      "source": [
        "PROJECT 3:\n",
        "Extracting Dell laptops data from amazon.in website and saving it as.csv Name of the laptop,price,no.of Reviews"
      ],
      "metadata": {
        "id": "rIAScjArIMrZ"
      }
    },
    {
      "cell_type": "code",
      "source": [
        "!pip install selenium"
      ],
      "metadata": {
        "id": "qI-IYVM68VDj"
      },
      "execution_count": null,
      "outputs": []
    },
    {
      "cell_type": "code",
      "source": [
        "!pip install webdriver_manager"
      ],
      "metadata": {
        "id": "wZGZaDfVHZvJ"
      },
      "execution_count": null,
      "outputs": []
    },
    {
      "cell_type": "code",
      "source": [
        "import pandas as pd"
      ],
      "metadata": {
        "id": "5zXbNrsWKsfl"
      },
      "execution_count": null,
      "outputs": []
    },
    {
      "cell_type": "code",
      "source": [
        "from selenium import webdriver"
      ],
      "metadata": {
        "id": "t0aqIGPUKzb2"
      },
      "execution_count": null,
      "outputs": []
    },
    {
      "cell_type": "code",
      "source": [
        "from selenium.webdriver.chrome.options import Options"
      ],
      "metadata": {
        "id": "zTuHVs9oK_6d"
      },
      "execution_count": null,
      "outputs": []
    },
    {
      "cell_type": "code",
      "source": [
        "from webdriver_manager.chrome import ChromeDriverManager"
      ],
      "metadata": {
        "id": "0Nu3mHHrLMWL"
      },
      "execution_count": null,
      "outputs": []
    },
    {
      "cell_type": "code",
      "source": [
        "from selenium.webdriver.common.by import By"
      ],
      "metadata": {
        "id": "2FjuLmVoLbEn"
      },
      "execution_count": null,
      "outputs": []
    },
    {
      "cell_type": "code",
      "source": [
        "from selenium.webdriver.common.keys import Keys"
      ],
      "metadata": {
        "id": "YHC2xh2PLnCp"
      },
      "execution_count": null,
      "outputs": []
    },
    {
      "cell_type": "code",
      "source": [
        "#define options and set brower capabilities\n",
        "options=webdriver.ChromeOptions()\n",
        "options.add_argument('--some-option')"
      ],
      "metadata": {
        "id": "W95x8y8FMSxH"
      },
      "execution_count": null,
      "outputs": []
    },
    {
      "cell_type": "code",
      "source": [
        "#Create WebDriver instance with options\n",
        "driver = webdriver.Chrome(options=options)"
      ],
      "metadata": {
        "id": "g9mptmtSMu9h"
      },
      "execution_count": null,
      "outputs": []
    }
  ]
}