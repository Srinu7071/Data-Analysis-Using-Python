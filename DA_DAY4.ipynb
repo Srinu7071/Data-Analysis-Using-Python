{
  "nbformat": 4,
  "nbformat_minor": 0,
  "metadata": {
    "colab": {
      "private_outputs": true,
      "provenance": []
    },
    "kernelspec": {
      "name": "python3",
      "display_name": "Python 3"
    },
    "language_info": {
      "name": "python"
    }
  },
  "cells": [
    {
      "cell_type": "markdown",
      "source": [
        "**WEB SCRAPPING**"
      ],
      "metadata": {
        "id": "c9fxfIgNQlP3"
      }
    },
    {
      "cell_type": "markdown",
      "source": [
        "WEB SCRAPPING -Loading data from websites -Unstructured in HTML -Convertible into spreadsheets/DB -Major websites have their APIs for web scrapping\n",
        "\n",
        "-Extract all the data on particular sites -Specific data that a user wants"
      ],
      "metadata": {
        "id": "1xWN5DBTQDO6"
      }
    },
    {
      "cell_type": "markdown",
      "source": [
        "PROCESS: URL-> HTML code-> Elements(CSS/JS)-> Scrapes the required data-> Saves it in required format(csv,xis)"
      ],
      "metadata": {
        "id": "sv0TiYeC9gPo"
      }
    },
    {
      "cell_type": "markdown",
      "source": [
        "APPLICATIONS:\n",
        "-Email Marketing\n",
        "-Sentiment Analysis\n",
        "-News Monitoring\n",
        "-Market Research\n",
        "-Price Monitoring\n"
      ],
      "metadata": {
        "id": "m9_EJZxh9cen"
      }
    },
    {
      "cell_type": "markdown",
      "source": [
        "ACCESSING A STATIC WEBSITE:\n",
        "-beautifulSoup:searching and modifying the HTML and XML files\n",
        "-used o scrap data from static website\n",
        "-package bs4:subpackage\n",
        "-Pandas-\n",
        "-Selenium\n",
        "To install any library:\n",
        "!pip install library\n",
        "!pip install --upgrade library\n",
        "IMPORTING SUBPACKAGE:\n",
        "from parent import child\n"
      ],
      "metadata": {
        "id": "MnoPj2mD95dc"
      }
    },
    {
      "cell_type": "markdown",
      "source": [
        "problem1:\n",
        "Extracting HTML code of any website:"
      ],
      "metadata": {
        "id": "Xv_kOi5wDrTu"
      }
    },
    {
      "cell_type": "code",
      "source": [
        "#importing libraries\n",
        "from bs4 import BeautifulSoup\n",
        "import requests"
      ],
      "metadata": {
        "id": "sxZYQ0G59vGn"
      },
      "execution_count": null,
      "outputs": []
    },
    {
      "cell_type": "code",
      "source": [
        "url=\"https://www.google.com/search?q=google+colab&rlz=1C1GCEA_enIN1009IN1009&oq=&gs_lcrp=EgZjaHJvbWUqCQgAEEUYOxjCAzIJCAAQRRg7GMIDMgkIARBFGDsYwgMyCQgCEEUYOxjCAzIJCAMQRRg7\"\n"
      ],
      "metadata": {
        "id": "Ipm8sU_fIUbQ"
      },
      "execution_count": null,
      "outputs": []
    },
    {
      "cell_type": "code",
      "source": [
        "s=requests.get(url)\n",
        "soup=BeautifulSoup(s.text,'html')\n",
        "print(soup)\n"
      ],
      "metadata": {
        "id": "G7yte78-KW7G"
      },
      "execution_count": null,
      "outputs": []
    },
    {
      "cell_type": "code",
      "source": [],
      "metadata": {
        "id": "55QKUrQWOsTQ"
      },
      "execution_count": null,
      "outputs": []
    },
    {
      "cell_type": "markdown",
      "source": [],
      "metadata": {
        "id": "LoNNvbX2LX0L"
      }
    },
    {
      "cell_type": "code",
      "source": [],
      "metadata": {
        "id": "BHngRUmPLWwm"
      },
      "execution_count": null,
      "outputs": []
    }
  ]
}