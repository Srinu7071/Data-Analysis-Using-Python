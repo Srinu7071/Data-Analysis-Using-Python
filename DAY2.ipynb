{
  "nbformat": 4,
  "nbformat_minor": 0,
  "metadata": {
    "colab": {
      "private_outputs": true,
      "provenance": []
    },
    "kernelspec": {
      "name": "python3",
      "display_name": "Python 3"
    },
    "language_info": {
      "name": "python"
    }
  },
  "cells": [
    {
      "cell_type": "code",
      "execution_count": null,
      "metadata": {
        "id": "oO8-mqTMrTRW"
      },
      "outputs": [],
      "source": [
        "#create an array with 8 rows and 4 columns\n",
        "import numpy as np\n",
        "a=np.arange(1,33,1).reshape(8,4)\n",
        "print(a)"
      ]
    },
    {
      "cell_type": "code",
      "source": [
        "#random\n",
        "A=np.random.rand(1) #rand prints the values between 0 and 1\n",
        "print(A)"
      ],
      "metadata": {
        "id": "XN9wAj7OtbW7"
      },
      "execution_count": null,
      "outputs": []
    },
    {
      "cell_type": "code",
      "source": [
        "A=np.random.rand(8,4) #rand-range is between 0 and 1\n",
        "print(A)"
      ],
      "metadata": {
        "id": "tBfSPHaYtxan"
      },
      "execution_count": null,
      "outputs": []
    },
    {
      "cell_type": "code",
      "source": [
        "A=np.floor(10*np.random.rand(8,4)) #rand-range is between 0 and 1\n",
        "print(A)"
      ],
      "metadata": {
        "id": "3O6z-8bTuySv"
      },
      "execution_count": null,
      "outputs": []
    },
    {
      "cell_type": "code",
      "source": [
        "np.vsplit(a,4)"
      ],
      "metadata": {
        "id": "rRTCcsZYwQyw"
      },
      "execution_count": null,
      "outputs": []
    },
    {
      "cell_type": "code",
      "source": [
        "np.hsplit(a,4)"
      ],
      "metadata": {
        "id": "RB1yNFgDxwBA"
      },
      "execution_count": null,
      "outputs": []
    },
    {
      "cell_type": "code",
      "source": [
        "np.hsplit(a,4)"
      ],
      "metadata": {
        "id": "wOW5rzDK0Fg-"
      },
      "execution_count": null,
      "outputs": []
    },
    {
      "cell_type": "code",
      "source": [
        "np.vsplit(a,(3,5)) #split it after 3rd and 5th row"
      ],
      "metadata": {
        "id": "sm7l6hNuyD53"
      },
      "execution_count": null,
      "outputs": []
    },
    {
      "cell_type": "code",
      "source": [
        "np.hsplit(A,4)"
      ],
      "metadata": {
        "id": "NAobiqpA0Bf0"
      },
      "execution_count": null,
      "outputs": []
    },
    {
      "cell_type": "code",
      "source": [
        "#create an array from 4 rows and 8 columns\n",
        "np.vsplit(a,(4,8))"
      ],
      "metadata": {
        "id": "WbvPDTUxzlPd"
      },
      "execution_count": null,
      "outputs": []
    },
    {
      "cell_type": "code",
      "source": [
        "np.hsplit(a,(3,4))"
      ],
      "metadata": {
        "id": "qa2sPVqVz5HN"
      },
      "execution_count": null,
      "outputs": []
    },
    {
      "cell_type": "code",
      "source": [
        "np.hsplit(b,(3,4))"
      ],
      "metadata": {
        "id": "_UdxePnC1zJ9"
      },
      "execution_count": null,
      "outputs": []
    },
    {
      "cell_type": "code",
      "source": [
        "np.hsplit(b,4)"
      ],
      "metadata": {
        "id": "AYzlDQ5O151K"
      },
      "execution_count": null,
      "outputs": []
    },
    {
      "cell_type": "code",
      "source": [
        "np.vsplit(b,(3,4))"
      ],
      "metadata": {
        "id": "kS9iBj-D2CZz"
      },
      "execution_count": null,
      "outputs": []
    },
    {
      "cell_type": "code",
      "source": [
        "np.vsplit(b,4)"
      ],
      "metadata": {
        "id": "gbeJCdKt2J9V"
      },
      "execution_count": null,
      "outputs": []
    },
    {
      "cell_type": "code",
      "source": [
        "np.hsplit(b,(3,7))"
      ],
      "metadata": {
        "id": "G2oB5xz82Sm5"
      },
      "execution_count": null,
      "outputs": []
    },
    {
      "cell_type": "code",
      "source": [
        "np.hsplit(b,(2,5))"
      ],
      "metadata": {
        "id": "XBPGJZj_2hwX"
      },
      "execution_count": null,
      "outputs": []
    },
    {
      "cell_type": "code",
      "source": [
        "np.tan(a)"
      ],
      "metadata": {
        "id": "Mlg7lNC43TT9"
      },
      "execution_count": null,
      "outputs": []
    },
    {
      "cell_type": "code",
      "source": [
        "np.sin(1)"
      ],
      "metadata": {
        "id": "_tGhYXJU58Ci"
      },
      "execution_count": null,
      "outputs": []
    },
    {
      "cell_type": "code",
      "source": [
        "np.cos(1)"
      ],
      "metadata": {
        "id": "djjUR2uT6BYe"
      },
      "execution_count": null,
      "outputs": []
    },
    {
      "cell_type": "code",
      "source": [
        "np.tan(1)"
      ],
      "metadata": {
        "id": "_HQFTv_s6IRm"
      },
      "execution_count": null,
      "outputs": []
    },
    {
      "cell_type": "code",
      "source": [
        "np.pi"
      ],
      "metadata": {
        "id": "A5ZsuI013k9g"
      },
      "execution_count": null,
      "outputs": []
    },
    {
      "cell_type": "code",
      "source": [
        "np.mean(a)"
      ],
      "metadata": {
        "id": "AtaGBqwp3sOg"
      },
      "execution_count": null,
      "outputs": []
    },
    {
      "cell_type": "code",
      "source": [
        "np.median(a)"
      ],
      "metadata": {
        "id": "kHr5wRJo33xK"
      },
      "execution_count": null,
      "outputs": []
    },
    {
      "cell_type": "code",
      "source": [
        "np.var(a)"
      ],
      "metadata": {
        "id": "y14bngwD3_ql"
      },
      "execution_count": null,
      "outputs": []
    },
    {
      "cell_type": "code",
      "source": [
        "a=[np.pi/4,np.pi/3,np.pi/2,np.pi]\n",
        "print(a)"
      ],
      "metadata": {
        "id": "q8JwueGM4ISB"
      },
      "execution_count": null,
      "outputs": []
    },
    {
      "cell_type": "code",
      "source": [
        "np.rad2deg(a)"
      ],
      "metadata": {
        "id": "9xSj3tR-4oT4"
      },
      "execution_count": null,
      "outputs": []
    },
    {
      "cell_type": "code",
      "source": [
        "np.deg2rad(a)"
      ],
      "metadata": {
        "id": "q4WSf8O442Dn"
      },
      "execution_count": null,
      "outputs": []
    },
    {
      "cell_type": "markdown",
      "source": [
        "statistics"
      ],
      "metadata": {
        "id": "teHLnZD16kO3"
      }
    },
    {
      "cell_type": "code",
      "source": [
        "st=np.array([23,45,67,89,21,34])"
      ],
      "metadata": {
        "id": "f8tCHMCG6jLt"
      },
      "execution_count": null,
      "outputs": []
    },
    {
      "cell_type": "code",
      "source": [
        "np.mean(st)"
      ],
      "metadata": {
        "id": "7eS2BZ327E2D"
      },
      "execution_count": null,
      "outputs": []
    },
    {
      "cell_type": "code",
      "source": [
        "np.median(st)"
      ],
      "metadata": {
        "id": "889_4SZT7cxO"
      },
      "execution_count": null,
      "outputs": []
    },
    {
      "cell_type": "code",
      "source": [
        "np.var(st)"
      ],
      "metadata": {
        "id": "Jz5SVZ3M7lio"
      },
      "execution_count": null,
      "outputs": []
    },
    {
      "cell_type": "code",
      "source": [
        "np.std(st)"
      ],
      "metadata": {
        "id": "w0KfdFe2_Z5p"
      },
      "execution_count": null,
      "outputs": []
    },
    {
      "cell_type": "code",
      "source": [
        "c=np.arange(1,5).reshape(2,2)\n",
        "print(c)"
      ],
      "metadata": {
        "id": "DtaiNp61_lVi"
      },
      "execution_count": null,
      "outputs": []
    },
    {
      "cell_type": "code",
      "source": [
        "np.linalg.inv(c)"
      ],
      "metadata": {
        "id": "ahXpjFd3_5H9"
      },
      "execution_count": null,
      "outputs": []
    },
    {
      "cell_type": "code",
      "source": [
        "np.argmax(c) #it prints the max value index in array"
      ],
      "metadata": {
        "id": "Cb7boOErACON"
      },
      "execution_count": null,
      "outputs": []
    },
    {
      "cell_type": "code",
      "source": [
        "np.argmin(c) #it prints the min value index in array"
      ],
      "metadata": {
        "id": "Wx_SDxk9AbZS"
      },
      "execution_count": null,
      "outputs": []
    },
    {
      "cell_type": "code",
      "source": [
        "C=np.floor(10*np.random.rand(24)).reshape(6,4)\n",
        "print(C)"
      ],
      "metadata": {
        "id": "XrDpNjkeA3EL"
      },
      "execution_count": null,
      "outputs": []
    },
    {
      "cell_type": "code",
      "source": [
        "print(np.argmax(C))"
      ],
      "metadata": {
        "id": "JlSiLrPbBQZz"
      },
      "execution_count": null,
      "outputs": []
    },
    {
      "cell_type": "code",
      "source": [
        "print(np.argmin(C))"
      ],
      "metadata": {
        "id": "yKmFaTdeBfUV"
      },
      "execution_count": null,
      "outputs": []
    },
    {
      "cell_type": "code",
      "source": [
        "print(np.argmax(C,axis=0))"
      ],
      "metadata": {
        "id": "kS-xVXEqCNgP"
      },
      "execution_count": null,
      "outputs": []
    },
    {
      "cell_type": "code",
      "source": [
        "print(np.argmax(C,axis=1))"
      ],
      "metadata": {
        "id": "Vd2mwF4eC0wr"
      },
      "execution_count": null,
      "outputs": []
    },
    {
      "cell_type": "code",
      "source": [
        "print(np.argmin(C,axis=0))"
      ],
      "metadata": {
        "id": "ZNKC3WNfDy9g"
      },
      "execution_count": null,
      "outputs": []
    },
    {
      "cell_type": "code",
      "source": [
        "print(np.argmin(C,axis=1))"
      ],
      "metadata": {
        "id": "o37rKNHbEjZH"
      },
      "execution_count": null,
      "outputs": []
    },
    {
      "cell_type": "markdown",
      "source": [
        "searching"
      ],
      "metadata": {
        "id": "-3oqH4CEFkQ-"
      }
    },
    {
      "cell_type": "code",
      "source": [
        "a=np.array([34,58,18,78,12]) #number divisible by 2\n",
        "print(np.where(a%2==0))"
      ],
      "metadata": {
        "id": "rmAfDS1dFpVT"
      },
      "execution_count": null,
      "outputs": []
    },
    {
      "cell_type": "code",
      "source": [
        "a=np.array([34,58,18,78,12]) #number not divisible by 2\n",
        "print(np.where(a%2==1))"
      ],
      "metadata": {
        "id": "ACvbZ76TGggR"
      },
      "execution_count": null,
      "outputs": []
    },
    {
      "cell_type": "code",
      "source": [
        "a=np.array([34,58,18,78,12]) #number divisible by 3\n",
        "print(np.where(a%3==0))"
      ],
      "metadata": {
        "id": "HqnIkXEIG1Tx"
      },
      "execution_count": null,
      "outputs": []
    },
    {
      "cell_type": "code",
      "source": [
        "a=np.array([1,2,3,4,5])\n"
      ],
      "metadata": {
        "id": "fVJpRJF8IAAv"
      },
      "execution_count": null,
      "outputs": []
    },
    {
      "cell_type": "code",
      "source": [
        "a=np.searchsorted(a,4)\n",
        "print(a)"
      ],
      "metadata": {
        "id": "M4UykThKILRW"
      },
      "execution_count": null,
      "outputs": []
    },
    {
      "cell_type": "code",
      "source": [
        "#sorting array\n",
        "arr=np.array(['cherry','mango','srinu','masi'])\n",
        "print(np.sort(arr))"
      ],
      "metadata": {
        "id": "kLSvlJatJNIX"
      },
      "execution_count": null,
      "outputs": []
    },
    {
      "cell_type": "code",
      "source": [
        "arr1=np.array([True,False,True,False])\n",
        "print(np.sort(arr1))"
      ],
      "metadata": {
        "id": "YRuB4jF7Jqfv"
      },
      "execution_count": null,
      "outputs": []
    },
    {
      "cell_type": "code",
      "source": [
        "arr2=np.array([40,42,50,44,67,78])\n",
        "x=[True,False,True,False,True,False]\n",
        "newarr=arr2[x]\n",
        "print(newarr)"
      ],
      "metadata": {
        "id": "iaVgEr0JLF-6"
      },
      "execution_count": null,
      "outputs": []
    },
    {
      "cell_type": "code",
      "source": [
        "arr=np.array([1,8,5,9,2,7])\n",
        "flit=np.where(arr%2==0)\n",
        "print(flit)\n",
        "arr[flit]"
      ],
      "metadata": {
        "id": "ntWVt19uMmOq"
      },
      "execution_count": null,
      "outputs": []
    },
    {
      "cell_type": "markdown",
      "source": [
        "iterating throgh zip arrays"
      ],
      "metadata": {
        "id": "z-VCP_41OnRB"
      }
    },
    {
      "cell_type": "code",
      "source": [
        "names=np.array([\"srinu\",\"sai\",\"soma\",\"vijay\",\"dp\"])\n",
        "initials=np.array([\"T\",\"R\",\"G\",\"S\",\"C\"])\n",
        "for i,j in zip(initials,names):\n",
        "  print(i,\".\",j)"
      ],
      "metadata": {
        "id": "a8OiDyY1OCIL"
      },
      "execution_count": null,
      "outputs": []
    },
    {
      "cell_type": "code",
      "source": [
        "a1=np.array([10,20,30,40,50,60])\n",
        "a2=np.array([20,21,22,23,24,25])\n",
        "n=np.multiply(a1,a2)\n",
        "print(n)"
      ],
      "metadata": {
        "id": "75ZKt10JP5TH"
      },
      "execution_count": null,
      "outputs": []
    },
    {
      "cell_type": "code",
      "source": [
        "m=np.divide(a1,a2)\n",
        "k=np.mod(a1,a2)\n",
        "n=np.divmod(a1,a2)\n",
        "print(m)\n",
        "print(k)\n",
        "print(n)"
      ],
      "metadata": {
        "id": "QSNFhYdtRTtY"
      },
      "execution_count": null,
      "outputs": []
    },
    {
      "cell_type": "markdown",
      "source": [
        "logarithms"
      ],
      "metadata": {
        "id": "J-Gzu0zTSWN-"
      }
    },
    {
      "cell_type": "code",
      "source": [
        "#logarithms\n",
        "a=1.2\n",
        "print(np.log(a)) #natural log e\n"
      ],
      "metadata": {
        "id": "Izq-LhgkShI4"
      },
      "execution_count": null,
      "outputs": []
    },
    {
      "cell_type": "code",
      "source": [
        "a=1.2\n",
        "print(np.log2(a)) #natural log base 2"
      ],
      "metadata": {
        "id": "vYOx3eEWTaAQ"
      },
      "execution_count": null,
      "outputs": []
    },
    {
      "cell_type": "code",
      "source": [
        "a=1.2\n",
        "print(np.log10(a)) #natural log base 10"
      ],
      "metadata": {
        "id": "ZNm40lmtTn3g"
      },
      "execution_count": null,
      "outputs": []
    },
    {
      "cell_type": "code",
      "source": [
        "a=np.array([1,1.2,3,4])\n",
        "print(np.log(a)) #natural log e"
      ],
      "metadata": {
        "id": "dhPyfS0_T0bn"
      },
      "execution_count": null,
      "outputs": []
    },
    {
      "cell_type": "markdown",
      "source": [
        "other mathematical functions"
      ],
      "metadata": {
        "id": "Ph8Aw8JqUwSw"
      }
    },
    {
      "cell_type": "code",
      "source": [
        "a2=np.array([5,6,7,8])\n",
        "x=np.cumprod(a2)\n",
        "print(x)"
      ],
      "metadata": {
        "id": "-hsA_Y2iU3SK"
      },
      "execution_count": null,
      "outputs": []
    },
    {
      "cell_type": "code",
      "source": [
        "a2=np.array([5,6,7,8])\n",
        "x=np.cumsum(a2)\n",
        "print(x)"
      ],
      "metadata": {
        "id": "vJc3dxYpXAKZ"
      },
      "execution_count": null,
      "outputs": []
    },
    {
      "cell_type": "code",
      "source": [
        "a2=np.array([5,6,7,10]) #e2-e1\n",
        "newarr=np.diff(a2)\n",
        "print(newarr)"
      ],
      "metadata": {
        "id": "rf9Ce4VMVKOD"
      },
      "execution_count": null,
      "outputs": []
    },
    {
      "cell_type": "code",
      "source": [
        "num1=455\n",
        "num2=766\n",
        "x=np.lcm(num1,num2)\n",
        "print(x)"
      ],
      "metadata": {
        "id": "jSIRNt4RVvce"
      },
      "execution_count": null,
      "outputs": []
    },
    {
      "cell_type": "code",
      "source": [
        "num1=455\n",
        "num2=766\n",
        "x=np.gcd(num1,num2)\n",
        "print(x)"
      ],
      "metadata": {
        "id": "uSzCh6L5WLLy"
      },
      "execution_count": null,
      "outputs": []
    },
    {
      "cell_type": "code",
      "source": [
        "a=np.array([12,15,60])\n",
        "lc=np.lcm.reduce(a) #takes multiple inputs gives single output\n",
        "print(lc)"
      ],
      "metadata": {
        "id": "Bu4ExfpoXaif"
      },
      "execution_count": null,
      "outputs": []
    }
  ]
}