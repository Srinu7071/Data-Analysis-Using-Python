{
  "nbformat": 4,
  "nbformat_minor": 0,
  "metadata": {
    "colab": {
      "private_outputs": true,
      "provenance": []
    },
    "kernelspec": {
      "name": "python3",
      "display_name": "Python 3"
    },
    "language_info": {
      "name": "python"
    }
  },
  "cells": [
    {
      "cell_type": "markdown",
      "source": [
        "SUPERVISED LEARNING\n",
        "Assume that when we provide 3 coins\n",
        "Labelled data\n",
        "Takes a feature is labelled data\n",
        "Input is 3 different labels and output is anyone of the one label\n",
        "WEIGHT=FEATURE\n",
        "CURRENCY=LABEL\n",
        "PREDICTION:When we provide a coin its asks feature value and the machine gives output as a label"
      ],
      "metadata": {
        "id": "UB8P9Q7FV2bG"
      }
    },
    {
      "cell_type": "markdown",
      "source": [
        "MACHINE LEARNING ALGORITHMS:\n",
        "Linear and Logistic Regression\n",
        "Linear Regression:\n",
        "1.Learns from the labelled datasets and maps the data points to the most optimized linear functions\n",
        "2.These points can be used for prediction on new datasets........\n",
        "\n",
        "Dependent and Independent Variable\n",
        "1.Inpendent:\n",
        "The independent variable is the cause.Its value is independent of other variables in ypur study.\n",
        "2..Dependent:\n",
        "The dependent variable is the effect.Its value depends on changes in the independent variable...."
      ],
      "metadata": {
        "id": "DbqEblhiYY-3"
      }
    },
    {
      "cell_type": "markdown",
      "source": [
        "CASE STUDY:\n",
        "Consider measurements of a chemical reaction.\"The mass of the product increases with time.\n",
        "TIME=INDEPENDENT--->FEATURE\n",
        "MASS=DEPENDENT--->LABEL\n",
        "\n",
        "According to this case study we have\n",
        " 5 values for features\n",
        " 5 labels [1.for each feature\n"
      ],
      "metadata": {
        "id": "6eLmuwqVcwgN"
      }
    },
    {
      "cell_type": "markdown",
      "source": [
        "Regression Basics:\n",
        "Logistic Regression:\n",
        "Binary Classification:\n",
        "Example Segregating Food:\n",
        "Y=0,Class A-Healthy Food........\n",
        "Y=1,class B-Unhealthy Food\n",
        "     Case Study:\n",
        "     -->Let us take data from Football matches:\n",
        "     -->Based on the distance between player and goal post,we are going to predict whether it is a goal are not!\n",
        "     -->Let us plot some trails now\n",
        "     0.When distance=2m,goal is scored,Y-1\n",
        "     0.When distance=4m,goal is scored,Y=1\n",
        "     0.For 5,7,10,20,22m,it is always a goal,Y=1\n",
        "     0.When distance=23m,for 15 trails,few are goals Y=1,few are failures Y=0\n",
        "\n",
        "\n",
        "\n",
        "     SIGMOID FUNCTION:\n",
        "     >>Sigmoid function is a S-shaped function with peak at 1 and 0 at valley..\n",
        "     >>When model is very confident,Narrow DB\n",
        "     >>When model is not confident,Wide DB"
      ],
      "metadata": {
        "id": "qFcuFebae6Jt"
      }
    },
    {
      "cell_type": "markdown",
      "source": [
        "PROCESS:\n",
        ">>After the plotting the distance VS goal between 20 and 30 meters the probability of goals gradually reduces 1 to 0\n",
        ">>But logistic regression abstacts only 2 class\n",
        ">>So,a threshold variable (0.5) is set.\n",
        ">>The model prediction is:\n",
        "   >>p>0.5,its a GOAL!-Class A(Y=1)\n",
        "   >>P<=0.5,its a MISS!-Class B(Y=0)"
      ],
      "metadata": {
        "id": "2316x9l4vC3g"
      }
    },
    {
      "cell_type": "markdown",
      "source": [],
      "metadata": {
        "id": "CQqZzJU7u-UT"
      }
    },
    {
      "cell_type": "code",
      "source": [
        "from sklearn.linear_model import LinearRegression\n",
        "LR=LinearRegression()"
      ],
      "metadata": {
        "id": "EYqGHa7mkatw"
      },
      "execution_count": null,
      "outputs": []
    },
    {
      "cell_type": "code",
      "source": [
        "t=[[5],[7],[12],[16],[20]]\n",
        "m=[40,120,180,210,240]\n",
        "LR.fit(t,m)"
      ],
      "metadata": {
        "id": "TZl3Deiak3iV"
      },
      "execution_count": null,
      "outputs": []
    },
    {
      "cell_type": "code",
      "source": [
        "LR.predict([[5.5]])"
      ],
      "metadata": {
        "id": "ky4BJqj-lQEo"
      },
      "execution_count": null,
      "outputs": []
    },
    {
      "cell_type": "code",
      "source": [
        "from logging import LogRecord\n",
        "import numpy as np\n",
        "from sklearn.linear_model import LogisticRegression\n",
        "import matplotlib.pyplot as plt"
      ],
      "metadata": {
        "id": "87ICppBqoBCW"
      },
      "execution_count": null,
      "outputs": []
    },
    {
      "cell_type": "code",
      "source": [
        "# Distance and corresponding probability data\n",
        "distances = np.array([1,2,5,10,15,20, 21, 22, 23, 24, 25, 26, 27, 28, 29, 30,35,40,41,47,50]).reshape(-1, 1)\n",
        "probabilities = np.array([1,1,1,1,1,1,0.9, 0.85, 0.73, 0.67, 0.5, 0.47, 0.39, 0.31, 0.25, 0.15,0,0,0,0,0])"
      ],
      "metadata": {
        "id": "UIX8m8kSyEd9"
      },
      "execution_count": null,
      "outputs": []
    },
    {
      "cell_type": "code",
      "source": [
        "#convert probabilities to binary labels\n",
        "threshold = 0.5\n",
        "binary_labels=(probabilities > threshold).astype(int)"
      ],
      "metadata": {
        "id": "rZSQsElJzBiQ"
      },
      "execution_count": null,
      "outputs": []
    },
    {
      "cell_type": "code",
      "source": [
        "#create and fit logistic regression model\n",
        "logr=LogisticRegression()\n",
        "logr.fit(distances,binary_labels)"
      ],
      "metadata": {
        "id": "QZXqxnY10IB0"
      },
      "execution_count": null,
      "outputs": []
    },
    {
      "cell_type": "code",
      "source": [
        "p=logr.predict([[25]]) #distance\n",
        "print(p)"
      ],
      "metadata": {
        "id": "n-B6Xo360m8i"
      },
      "execution_count": null,
      "outputs": []
    },
    {
      "cell_type": "code",
      "source": [
        "if p==[1]:\n",
        "  print(\"Goal\")\n",
        "else:\n",
        "  print(\"No Goal\")"
      ],
      "metadata": {
        "id": "4po9eVI71wH9"
      },
      "execution_count": null,
      "outputs": []
    },
    {
      "cell_type": "code",
      "source": [
        "#predict 100 distances between 1 and 50\n",
        "#generate distances for prediction\n",
        "dist=np.linspace(1,50,100).reshape(-1,1)\n",
        "print(dist)#distances\n",
        "#make predictions using the model\n",
        "prob=logr.predict_proba(dist)[:,1] #predictions\n",
        "print(prob)"
      ],
      "metadata": {
        "id": "K39PveKp4qnQ"
      },
      "execution_count": null,
      "outputs": []
    },
    {
      "cell_type": "code",
      "source": [
        "#plotting actual data-train\n",
        "plt.scatter(distances,binary_labels,color='black',label='Data')\n",
        "\n",
        "#plotting test data with predictions -valid/test\n",
        "plt.plot(dist,prob,color='blue',label='Logistic Regression')\n",
        "plt.title('Distance vs Probability of Scoring a Goal')\n",
        "plt.xlabel('Distance')\n",
        "plt.ylabel('Probability')\n",
        "plt.legend()\n",
        "plt.grid(True)\n",
        "plt.show()"
      ],
      "metadata": {
        "id": "B0NoRB2958zx"
      },
      "execution_count": null,
      "outputs": []
    },
    {
      "cell_type": "markdown",
      "source": [
        "Case study:\n",
        ">>Taking a dataset of 26 states with features like literacy ,cleanliness,\n",
        "crime rate and targetting(predicting) Good or Bad state!\n",
        ">>Good is called target variable here,it has values of 0s and 1s\n",
        ">>View:\n",
        "STATE,\n",
        ">>A,\n",
        ">>B,\n",
        ">>C,\n",
        ">>D,\n",
        ">>E,\n",
        "Literacy,\n",
        ">>92,\n",
        ">>56,\n",
        ">>78,\n",
        ">>63,\n",
        ">>85,\n",
        "Cleanliness,\n",
        ">>90,\n",
        ">>67,\n",
        ">>85,\n",
        ">>72,\n",
        ">>79,\n",
        "Crime_Rate,\n",
        ">>54,\n",
        ">>50,\n",
        ">>62,\n",
        ">>48,\n",
        ">>55,\n",
        "Good\n",
        ">>0\n",
        ">>1\n",
        ">>0\n",
        ">>1\n",
        ">>0....."
      ],
      "metadata": {
        "id": "l2ky_kFkRoRc"
      }
    },
    {
      "cell_type": "markdown",
      "source": [
        "NOW LET US CREATE A DECISION TREE\n",
        "          .Decision tree recurrently(continously) splits the data until it gets pure leaves\n",
        "          .Let us view a DT based on Crime Rate"
      ],
      "metadata": {
        "id": "t1CLM-6sTj-J"
      }
    },
    {
      "cell_type": "markdown",
      "source": [
        "BUILDING DECISION TREE:\n",
        "\n",
        "*  note1:cr>60\n",
        "*  true=[c,q,x=0](pure leaf)\n",
        "\n",
        "\n",
        "*  false=[A,E,F,G,I,K,L,N,P,R,U,V=0],[B,D,H,I,M,O,S,T,W,X,Y,Z=1](ITS A MIX A 0S AND 1S)\n",
        "\n",
        "*mixed leaf has target variable has both 0's and 1's hence this data is splited at once again\n",
        "1.NOTE 2:CR>50\n",
        "2.True =[A,E,F,G,I,K,L,N,P,R,U,V=0].(ALL ARE 0'S AND ITS A PURE LEAF)  \n",
        "3.FALSE=[B,D,H,I,M,O,S,T,W,X,Y,Z=1],(ALL ARE 1'S AND ITS A PURE LEAF)\n",
        "\n",
        "CONCLUSION:\n",
        "\n",
        "---CrimeRate>60  \n",
        "---CrimeRate\n",
        "\n",
        "\n",
        "\n"
      ],
      "metadata": {
        "id": "P0LgzQ3dUjCD"
      }
    },
    {
      "cell_type": "code",
      "source": [
        "import pandas as pd"
      ],
      "metadata": {
        "id": "wqpzV_PyYyyb"
      },
      "execution_count": null,
      "outputs": []
    },
    {
      "cell_type": "code",
      "source": [
        "demo=pd.read_csv(\"/content/demodt.txt\")"
      ],
      "metadata": {
        "id": "uueYuI28Y4JB"
      },
      "execution_count": null,
      "outputs": []
    },
    {
      "cell_type": "code",
      "source": [
        "df=demo"
      ],
      "metadata": {
        "id": "ijqPhMAwZWCO"
      },
      "execution_count": null,
      "outputs": []
    },
    {
      "cell_type": "code",
      "source": [
        "df"
      ],
      "metadata": {
        "id": "H3CdeQsKZshr"
      },
      "execution_count": null,
      "outputs": []
    },
    {
      "cell_type": "code",
      "source": [
        "from sklearn.tree import DecisionTreeClassifier\n",
        "DTC=DecisionTreeClassifier()"
      ],
      "metadata": {
        "id": "tB3eVbzTa77W"
      },
      "execution_count": null,
      "outputs": []
    },
    {
      "cell_type": "code",
      "source": [
        "target=df.Good"
      ],
      "metadata": {
        "id": "IcY7kcDnblTk"
      },
      "execution_count": null,
      "outputs": []
    },
    {
      "cell_type": "code",
      "source": [
        "print(target)"
      ],
      "metadata": {
        "id": "I99IhOxhbujc"
      },
      "execution_count": null,
      "outputs": []
    },
    {
      "cell_type": "code",
      "source": [
        "feature_list=[\"Literacy\",\"Cleanliness\",\"Crime_Rate\"]"
      ],
      "metadata": {
        "id": "xiOF6V3fcUF9"
      },
      "execution_count": null,
      "outputs": []
    },
    {
      "cell_type": "code",
      "source": [
        "feat=df[feature_list]"
      ],
      "metadata": {
        "id": "4p0MVl-Vc3Ra"
      },
      "execution_count": null,
      "outputs": []
    },
    {
      "cell_type": "code",
      "source": [
        "print(feat)"
      ],
      "metadata": {
        "id": "KCvjeWQSdFVw"
      },
      "execution_count": null,
      "outputs": []
    },
    {
      "cell_type": "code",
      "source": [
        "model=DecisionTreeClassifier()\n",
        "model.fit(feat,target)"
      ],
      "metadata": {
        "id": "DUvow4yBeLte"
      },
      "execution_count": null,
      "outputs": []
    },
    {
      "cell_type": "code",
      "source": [
        "li=int(input(\"Enter value\"))\n",
        "cl=int(input(\"Enter value\"))\n",
        "cr=int(input(\"Enter value\"))"
      ],
      "metadata": {
        "id": "-KdntNV5hNvg"
      },
      "execution_count": null,
      "outputs": []
    },
    {
      "cell_type": "code",
      "source": [
        "pred=model.predict([[li,cl,cr]])\n",
        "print(pred)"
      ],
      "metadata": {
        "id": "m_s9ZFlKggCM"
      },
      "execution_count": null,
      "outputs": []
    },
    {
      "cell_type": "code",
      "source": [
        "if pred==1:\n",
        "  print(\"good\")\n",
        "else:\n",
        "  print(\"bad\")"
      ],
      "metadata": {
        "id": "CYS83x8mmogM"
      },
      "execution_count": null,
      "outputs": []
    },
    {
      "cell_type": "markdown",
      "source": [],
      "metadata": {
        "id": "pyY2VmSmp2Ry"
      }
    },
    {
      "cell_type": "code",
      "source": [],
      "metadata": {
        "id": "e5NaMdEon84n"
      },
      "execution_count": null,
      "outputs": []
    }
  ]
}