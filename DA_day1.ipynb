{
  "cells": [
    {
      "cell_type": "code",
      "execution_count": null,
      "metadata": {
        "colab": {
          "base_uri": "https://localhost:8080/"
        },
        "id": "1xmlfwaOrI1B",
        "outputId": "38d55804-aea9-4332-cce6-e0193073ccde"
      },
      "outputs": [
        {
          "output_type": "stream",
          "name": "stdout",
          "text": [
            "I am 5 Years old\n"
          ]
        }
      ],
      "source": [
        "a=5\n",
        "print(\"I am\",a,\"Years old\")\n"
      ]
    },
    {
      "cell_type": "markdown",
      "metadata": {
        "id": "x8O26co1sJk4"
      },
      "source": [
        " operators"
      ]
    },
    {
      "cell_type": "code",
      "execution_count": null,
      "metadata": {
        "colab": {
          "background_save": true,
          "base_uri": "https://localhost:8080/"
        },
        "id": "c4MWpGAkscYs",
        "outputId": "0d250249-2940-4a39-e185-cb1de7422929"
      },
      "outputs": [
        {
          "name": "stdout",
          "output_type": "stream",
          "text": [
            "30\n"
          ]
        }
      ],
      "source": [
        "#arithmatic\n",
        "a=5\n",
        "b=25\n",
        "print(a+b)\n"
      ]
    },
    {
      "cell_type": "code",
      "execution_count": null,
      "metadata": {
        "colab": {
          "background_save": true,
          "base_uri": "https://localhost:8080/"
        },
        "id": "HAREUrkjstoF",
        "outputId": "b8f67ae6-4dfa-4f7e-da14-017b96267e16"
      },
      "outputs": [
        {
          "name": "stdout",
          "output_type": "stream",
          "text": [
            "8\n"
          ]
        }
      ],
      "source": [
        "#power\n",
        "print(2**3)"
      ]
    },
    {
      "cell_type": "code",
      "execution_count": null,
      "metadata": {
        "colab": {
          "background_save": true,
          "base_uri": "https://localhost:8080/"
        },
        "id": "pzWH6nBys3x0",
        "outputId": "86185c8e-5c6b-47fa-a1b2-ed2f0b9977a7"
      },
      "outputs": [
        {
          "name": "stdout",
          "output_type": "stream",
          "text": [
            "5\n"
          ]
        }
      ],
      "source": [
        "#floor division\n",
        "print(25//5)"
      ]
    },
    {
      "cell_type": "code",
      "execution_count": null,
      "metadata": {
        "colab": {
          "background_save": true,
          "base_uri": "https://localhost:8080/"
        },
        "id": "y9pfzmIRtETG",
        "outputId": "ebaef440-d7b4-4429-ebb5-e6a4af755101"
      },
      "outputs": [
        {
          "name": "stdout",
          "output_type": "stream",
          "text": [
            "True\n",
            "False\n",
            "False\n",
            "True\n",
            "True\n",
            "False\n"
          ]
        }
      ],
      "source": [
        "#relational\n",
        "a=6\n",
        "b=6\n",
        "print(a==b)\n",
        "print(a<b)\n",
        "print(a>b)\n",
        "print(a>=b)\n",
        "print(a<=b)\n",
        "print(a!=b)\n"
      ]
    },
    {
      "cell_type": "code",
      "execution_count": null,
      "metadata": {
        "colab": {
          "background_save": true,
          "base_uri": "https://localhost:8080/"
        },
        "id": "stYoDV3BtzLR",
        "outputId": "61ba2b11-583a-4f31-d66f-4109acc7d006"
      },
      "outputs": [
        {
          "name": "stdout",
          "output_type": "stream",
          "text": [
            "False\n",
            "True\n"
          ]
        }
      ],
      "source": [
        "#logical\n",
        "a=9\n",
        "b=25\n",
        "print((a>b) and (a<b))\n",
        "print((a>b) or (a<b))"
      ]
    },
    {
      "cell_type": "code",
      "execution_count": null,
      "metadata": {
        "colab": {
          "background_save": true,
          "base_uri": "https://localhost:8080/"
        },
        "id": "19-PQePEujIc",
        "outputId": "9e834e20-a0bc-4f76-fd5a-6803ceec4a8c"
      },
      "outputs": [
        {
          "name": "stdout",
          "output_type": "stream",
          "text": [
            "False\n",
            "True\n"
          ]
        }
      ],
      "source": [
        "#membership\n",
        "i=\"srinu\"\n",
        "print(\"i\"not in i)\n",
        "print(\"i\"in i)"
      ]
    },
    {
      "cell_type": "markdown",
      "metadata": {
        "id": "UOyWvftdvTtn"
      },
      "source": [
        "control flow"
      ]
    },
    {
      "cell_type": "code",
      "execution_count": null,
      "metadata": {
        "colab": {
          "background_save": true,
          "base_uri": "https://localhost:8080/"
        },
        "id": "sGfij9JnwUnL",
        "outputId": "7160de12-c350-4122-a064-4feb22d0699e"
      },
      "outputs": [
        {
          "name": "stdout",
          "output_type": "stream",
          "text": [
            "positive\n"
          ]
        }
      ],
      "source": [
        "#conditional-if\n",
        "#write a program to get a number from the user and check whether it is positive or negative\n",
        "a=int(input(\"enter a number:\"))\n",
        "if(a>0):\n",
        "  print(\"positive\")\n",
        "else:\n",
        "  print(\"negative\")\n"
      ]
    },
    {
      "cell_type": "code",
      "execution_count": null,
      "metadata": {
        "colab": {
          "background_save": true
        },
        "id": "1CmbI2jIyaM0",
        "outputId": "2582e0df-f193-4688-9a8a-be885d73449a"
      },
      "outputs": [
        {
          "name": "stdout",
          "output_type": "stream",
          "text": [
            "positive\n"
          ]
        }
      ],
      "source": [
        "#conditional-else if\n",
        "#write a program to get a number from the user and check whether it is positive or negative\n",
        "a=int(input(\"enter a number:\"))\n",
        "if(a>0):\n",
        "  print(\"positive\")\n",
        "elif(a==0):\n",
        "  print(\"a is neither positive nor negative\")\n",
        "else:\n",
        "  print(\"negative\")\n"
      ]
    },
    {
      "cell_type": "markdown",
      "metadata": {
        "id": "Ykfxg7_x00lq"
      },
      "source": [
        "for loop"
      ]
    },
    {
      "cell_type": "code",
      "execution_count": null,
      "metadata": {
        "id": "9-H8l9En4l9J"
      },
      "outputs": [],
      "source": [
        "#for loop\n",
        "a=int(input(\"enter n value:\"))\n",
        "for i in range(1,11,1):\n",
        "  print(i,\"*\",a,\"=\",a*i)"
      ]
    },
    {
      "cell_type": "markdown",
      "metadata": {
        "id": "l6JmUmJu7-Xq"
      },
      "source": [
        "while loop\n"
      ]
    },
    {
      "cell_type": "code",
      "execution_count": null,
      "metadata": {
        "id": "nWNWqgRK8BEC",
        "colab": {
          "base_uri": "https://localhost:8080/"
        },
        "outputId": "adb9baac-c13f-43c8-8b2c-8c4d2b2ec48e"
      },
      "outputs": [
        {
          "output_type": "stream",
          "name": "stdout",
          "text": [
            "enter a value6\n",
            "1 * 6 = 6\n",
            "2 * 6 = 12\n",
            "3 * 6 = 18\n",
            "4 * 6 = 24\n",
            "5 * 6 = 30\n",
            "6 * 6 = 36\n",
            "7 * 6 = 42\n",
            "8 * 6 = 48\n",
            "9 * 6 = 54\n",
            "10 * 6 = 60\n"
          ]
        }
      ],
      "source": [
        "#while loop\n",
        "a=int(input(\"enter a value\"))\n",
        "i=1\n",
        "while(a>0 and i<=10):\n",
        "  print(i,\"*\",a,\"=\",a*i)\n",
        "  i=i+1"
      ]
    },
    {
      "cell_type": "markdown",
      "source": [
        "lists"
      ],
      "metadata": {
        "id": "Rt1veifzC0Cf"
      }
    },
    {
      "cell_type": "code",
      "source": [
        "#list\n",
        "a=[]\n",
        "for i in range(1,10,1):\n",
        "  a.append(i)\n",
        "print(a)"
      ],
      "metadata": {
        "colab": {
          "base_uri": "https://localhost:8080/"
        },
        "id": "-e4PxxQwC3rk",
        "outputId": "c9c7c850-3143-4122-e78a-f13102cb96ad"
      },
      "execution_count": null,
      "outputs": [
        {
          "output_type": "stream",
          "name": "stdout",
          "text": [
            "[1, 2, 3, 4, 5, 6, 7, 8, 9]\n"
          ]
        }
      ]
    },
    {
      "cell_type": "code",
      "source": [
        "b=[1,2,3,4,5]\n",
        "b.insert(1,4)\n",
        "print(b)"
      ],
      "metadata": {
        "colab": {
          "base_uri": "https://localhost:8080/"
        },
        "id": "egQX51nPD4D-",
        "outputId": "5c1c83bf-4e6e-46a0-a773-cfc5f3deba80"
      },
      "execution_count": null,
      "outputs": [
        {
          "output_type": "stream",
          "name": "stdout",
          "text": [
            "[1, 4, 2, 3, 4, 5]\n"
          ]
        }
      ]
    },
    {
      "cell_type": "code",
      "source": [
        "b.pop(1)\n",
        "print(b)"
      ],
      "metadata": {
        "colab": {
          "base_uri": "https://localhost:8080/"
        },
        "id": "FahACwIJEYHw",
        "outputId": "dc3c61cc-c1ff-40e7-eb9d-afe34842aa09"
      },
      "execution_count": null,
      "outputs": [
        {
          "output_type": "stream",
          "name": "stdout",
          "text": [
            "[1, 2, 3, 4, 5]\n"
          ]
        }
      ]
    },
    {
      "cell_type": "code",
      "source": [
        "b.remove(3)\n",
        "print(b)"
      ],
      "metadata": {
        "colab": {
          "base_uri": "https://localhost:8080/"
        },
        "id": "2HD-YgJHEq5A",
        "outputId": "29745f03-c0e1-4032-d1eb-8fcb353a02df"
      },
      "execution_count": null,
      "outputs": [
        {
          "output_type": "stream",
          "name": "stdout",
          "text": [
            "[1, 2, 4, 5]\n"
          ]
        }
      ]
    },
    {
      "cell_type": "code",
      "source": [
        "print(max(b))\n",
        "print(min(b))\n",
        "print(len(b))"
      ],
      "metadata": {
        "colab": {
          "base_uri": "https://localhost:8080/"
        },
        "id": "BNq9JGEFE2qU",
        "outputId": "59eb3a31-8164-4a86-b405-9dc6abb6342a"
      },
      "execution_count": null,
      "outputs": [
        {
          "output_type": "stream",
          "name": "stdout",
          "text": [
            "5\n",
            "1\n",
            "4\n"
          ]
        }
      ]
    },
    {
      "cell_type": "code",
      "source": [
        "#squares of list elements\n",
        "l1=[2,3,4,5]\n",
        "l2=[i**2 for i in l1]#[output iterator condition]\n",
        "print(l2)"
      ],
      "metadata": {
        "colab": {
          "base_uri": "https://localhost:8080/"
        },
        "id": "atVMIKmZF11V",
        "outputId": "53cb9a28-79d4-4edd-d091-d008ce1de7c4"
      },
      "execution_count": null,
      "outputs": [
        {
          "output_type": "stream",
          "name": "stdout",
          "text": [
            "[4, 9, 16, 25]\n"
          ]
        }
      ]
    },
    {
      "cell_type": "code",
      "source": [
        "l1=[2,3,4,5]\n",
        "l2=[i**2 for i in l1 if i>4]#[output iterator condition]\n",
        "print(l2)"
      ],
      "metadata": {
        "colab": {
          "base_uri": "https://localhost:8080/"
        },
        "id": "k0bEuHJHGfhQ",
        "outputId": "132bd080-d45d-413b-ab2a-751a4e312a08"
      },
      "execution_count": null,
      "outputs": [
        {
          "output_type": "stream",
          "name": "stdout",
          "text": [
            "[25]\n"
          ]
        }
      ]
    },
    {
      "cell_type": "markdown",
      "source": [
        "#the salaries of 5 employes in a company is taken as a list tax is 10% if the salary is less than or = to 5000\n",
        "#or it is 15%\n",
        "#create a new list with tax amounts\n",
        "#[67000,45000,89000,34000,50000]\n",
        "#list_name=[(body of if) if (condition) else(body of else) iterate]"
      ],
      "metadata": {
        "id": "8Lxnd2zFIwh9"
      }
    },
    {
      "cell_type": "code",
      "source": [
        "sal=[67000,45000,89000,34000,50000]\n",
        "tax=[]\n",
        "for i in sal:\n",
        "  if i<=50000:\n",
        "    t=i*0.1\n",
        "    tax.append(t)\n",
        "  else:\n",
        "    t=i*0.15\n",
        "    tax.append(t)\n",
        "print(tax)"
      ],
      "metadata": {
        "colab": {
          "base_uri": "https://localhost:8080/"
        },
        "id": "6OCGJyKUKT8r",
        "outputId": "a0ea6326-fc7b-4547-86e3-20d85553bbdb"
      },
      "execution_count": null,
      "outputs": [
        {
          "output_type": "stream",
          "name": "stdout",
          "text": [
            "[10050.0, 4500.0, 13350.0, 3400.0, 5000.0]\n"
          ]
        }
      ]
    },
    {
      "cell_type": "code",
      "source": [
        "#list_name=[(body of if) if (condition) else(body of else) iterate]\n",
        "sal=[67000,45000,89000,34000,50000]\n",
        "tax=[i*0.1 if i<=50000 else i*0.15 for i in sal]\n",
        "print(tax)\n"
      ],
      "metadata": {
        "colab": {
          "base_uri": "https://localhost:8080/"
        },
        "id": "yfwvrJtdLarD",
        "outputId": "ea48bb08-f076-47aa-bf20-92bdcb2b914b"
      },
      "execution_count": null,
      "outputs": [
        {
          "output_type": "stream",
          "name": "stdout",
          "text": [
            "[10050.0, 4500.0, 13350.0, 3400.0, 5000.0]\n"
          ]
        }
      ]
    }
  ],
  "metadata": {
    "colab": {
      "provenance": []
    },
    "kernelspec": {
      "display_name": "Python 3",
      "name": "python3"
    },
    "language_info": {
      "name": "python"
    }
  },
  "nbformat": 4,
  "nbformat_minor": 0
}