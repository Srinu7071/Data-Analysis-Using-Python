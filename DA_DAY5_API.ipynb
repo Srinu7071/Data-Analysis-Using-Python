{
  "nbformat": 4,
  "nbformat_minor": 0,
  "metadata": {
    "colab": {
      "private_outputs": true,
      "provenance": []
    },
    "kernelspec": {
      "name": "python3",
      "display_name": "Python 3"
    },
    "language_info": {
      "name": "python"
    }
  },
  "cells": [
    {
      "cell_type": "code",
      "execution_count": null,
      "metadata": {
        "id": "vqpTbn14NTMi"
      },
      "outputs": [],
      "source": [
        "import requests"
      ]
    },
    {
      "cell_type": "code",
      "source": [
        "page=requests.get('https://randomfox.ca/floof')"
      ],
      "metadata": {
        "id": "tDclnWW3OAjO"
      },
      "execution_count": null,
      "outputs": []
    },
    {
      "cell_type": "code",
      "source": [
        "print(page.status_code)"
      ],
      "metadata": {
        "id": "UIMLM9QiONLp"
      },
      "execution_count": null,
      "outputs": []
    },
    {
      "cell_type": "code",
      "source": [
        "print(page.text)"
      ],
      "metadata": {
        "id": "2dQvVqcIOTmE"
      },
      "execution_count": null,
      "outputs": []
    },
    {
      "cell_type": "code",
      "source": [
        "print(page.json())"
      ],
      "metadata": {
        "id": "jZ5w3ghXPsSU"
      },
      "execution_count": null,
      "outputs": []
    },
    {
      "cell_type": "markdown",
      "source": [
        "API KEY:6a76c07d-5c14-48e0-81dc-64215e2b1d06"
      ],
      "metadata": {
        "id": "7ZOPK-ePTETM"
      }
    },
    {
      "cell_type": "code",
      "source": [
        "#This example uses Python 2.7 and the python-request library.\n",
        "\n",
        "from requests import Request, Session\n",
        "from requests.exceptions import ConnectionError, Timeout, TooManyRedirects\n",
        "import json\n",
        "\n",
        "url = 'https://sandbox-api.coinmarketcap.com/v1/cryptocurrency/listings/latest'\n",
        "parameters = {\n",
        "  'start':'1',\n",
        "  'limit':'5000',\n",
        "  'convert':'USD'\n",
        "}\n",
        "headers = {\n",
        "  'Accepts': 'application/json',\n",
        "  'X-CMC_PRO_API_KEY': '6a76c07d-5c14-48e0-81dc-64215e2b1d06',\n",
        "}\n",
        "\n",
        "session = Session()\n",
        "session.headers.update(headers)\n",
        "\n",
        "try:\n",
        "  response = session.get(url, params=parameters)\n",
        "  data = json.loads(response.text)\n",
        "  print(data)\n",
        "except (ConnectionError, Timeout, TooManyRedirects) as e:\n",
        "  print(e)\n"
      ],
      "metadata": {
        "id": "8NzGRlWpTHbp"
      },
      "execution_count": null,
      "outputs": []
    },
    {
      "cell_type": "code",
      "source": [
        "type(data)"
      ],
      "metadata": {
        "id": "CFqAzMDKXMMa"
      },
      "execution_count": null,
      "outputs": []
    },
    {
      "cell_type": "code",
      "source": [
        "import pandas as pd\n",
        "norm=pd.json_normalize(data['data'])"
      ],
      "metadata": {
        "id": "fVsx1AfDXRlM"
      },
      "execution_count": null,
      "outputs": []
    },
    {
      "cell_type": "code",
      "source": [
        "norm"
      ],
      "metadata": {
        "id": "m6nHjrchXkU8"
      },
      "execution_count": null,
      "outputs": []
    },
    {
      "cell_type": "markdown",
      "source": [
        "PROJECT:\n",
        "Extracting data from CoinMarket cap API:\n",
        "PROGRAM FLOW:\n",
        "1.Go to Coinmarket cap website\n",
        "2.Go to products-->API and obtain API key\n",
        "3.Go to documentation to obtain API code!\n",
        "4.Know your code!\n",
        "5.Run it in any python environment\n",
        "6.Obtain data in the form of json\n",
        "7.Normalize the data into dataform\n",
        "8.Save it if you needed"
      ],
      "metadata": {
        "id": "A1ho_nrqZm38"
      }
    },
    {
      "cell_type": "markdown",
      "source": [
        "Machine Learning:\n",
        ".Like humans leaen from their past experiences,machines learn from past data!\n",
        ".Training a machine on various things  is called machine learning!\n",
        "Liked -->High tempo high"
      ],
      "metadata": {
        "id": "SA6WJ_vCf1Er"
      }
    },
    {
      "cell_type": "code",
      "source": [],
      "metadata": {
        "id": "67f4ye05eJPU"
      },
      "execution_count": null,
      "outputs": []
    }
  ]
}